{
 "cells": [
  {
   "cell_type": "code",
   "execution_count": 1,
   "metadata": {},
   "outputs": [
    {
     "data": {
      "text/plain": [
       "'C:\\\\Users\\\\hp'"
      ]
     },
     "execution_count": 1,
     "metadata": {},
     "output_type": "execute_result"
    }
   ],
   "source": [
    "pwd\n"
   ]
  },
  {
   "cell_type": "code",
   "execution_count": 2,
   "metadata": {},
   "outputs": [
    {
     "name": "stdout",
     "output_type": "stream",
     "text": [
      "              AT  PM10  PM2.5   Temp      WD     RH      SR  Benzene  Toluene  \\\n",
      "Date                                                                            \n",
      "2016-07-01  27.2  94.5  42.50  29.18  220.00  72.50    8.00     3.68     8.03   \n",
      "2016-07-01  27.2  94.5  42.50  29.18  220.00  72.50    8.00     3.68     8.03   \n",
      "2016-07-01  27.2  94.5  42.50  29.18  220.00  72.50    8.00     3.68     8.03   \n",
      "2016-07-01  27.2  94.5  42.50  29.18  220.00  72.50    8.00     3.68     8.03   \n",
      "2016-07-01  27.2  94.5  42.50  29.18  220.00  72.50    8.00     3.68     8.03   \n",
      "2016-07-01  27.2  94.5  42.50  29.18  220.00  72.50    8.00     3.68     8.03   \n",
      "2016-07-01  27.2  94.5  42.50  29.18  220.00  72.50    8.00     3.68     8.03   \n",
      "2016-07-01  27.2  94.5  42.50  29.18  220.00  72.50    8.00     3.68     8.03   \n",
      "2016-07-01  27.2  94.5  42.50  29.18  220.00  72.50    8.00     3.68     8.03   \n",
      "2016-07-01  27.2  94.5  42.50  29.18  220.00  72.50    8.00     3.68     8.03   \n",
      "2016-07-01  27.2  94.5  42.50  29.18  220.00  72.50    8.00     3.68     8.03   \n",
      "2016-07-01  29.7  78.0  40.00  42.60  312.00  77.00   93.00     5.20    11.60   \n",
      "2016-07-01  29.7  78.0  40.00  42.60  312.00  77.00   93.00     5.20    11.60   \n",
      "2016-07-01  27.2  94.5  42.50  29.18  220.00  72.50    8.00     3.68     8.03   \n",
      "2016-07-01  29.9  91.5  54.75  30.95  260.25  79.25  159.25     8.88    14.30   \n",
      "\n",
      "              NH3     NO    NO2    NOx  Ozone    SO2    CO  Xylene  \n",
      "Date                                                                \n",
      "2016-07-01   9.55   4.85  27.00  19.46  22.58   9.10  0.70    1.87  \n",
      "2016-07-01   9.55   4.85  27.00  19.46  22.58   9.10  0.70    1.87  \n",
      "2016-07-01   9.55   4.85  27.00  19.46  22.58   9.10  0.70    1.87  \n",
      "2016-07-01   9.55   4.85  27.00  19.46  22.58   9.10  0.70    1.87  \n",
      "2016-07-01   9.55   4.85  27.00  19.46  22.58   9.10  0.70    1.87  \n",
      "2016-07-01   9.55   4.85  27.00  19.46  22.58   9.10  0.70    1.87  \n",
      "2016-07-01   9.55   4.85  27.00  19.46  22.58   9.10  0.70    1.87  \n",
      "2016-07-01   9.55   4.85  27.00  19.46  22.58   9.10  0.70    1.87  \n",
      "2016-07-01   9.55   4.85  27.00  19.46  22.58   9.10  0.70    1.87  \n",
      "2016-07-01   9.55   4.85  27.00  19.46  22.58   9.10  0.70    1.87  \n",
      "2016-07-01   9.55   4.85  27.00  19.46  22.58   9.10  0.70    1.87  \n",
      "2016-07-01  79.80  18.50  54.40  40.30   0.10  40.90  0.68    0.10  \n",
      "2016-07-01  79.80  18.50  54.40  40.30   0.10  40.90  0.68    0.10  \n",
      "2016-07-01   9.55   4.85  27.00  19.46  22.58   9.10  0.70    1.87  \n",
      "2016-07-01  27.75  13.25  62.07  40.12  31.15  34.22  1.64   10.05  \n"
     ]
    }
   ],
   "source": [
    "from pandas import read_excel\n",
    "from datetime import datetime\n",
    "dataset = read_excel('uni.xlsx')\n",
    "dataset.set_index('Date', inplace = True)\n",
    "print(dataset.head(15))"
   ]
  },
  {
   "cell_type": "code",
   "execution_count": 3,
   "metadata": {},
   "outputs": [
    {
     "data": {
      "text/plain": [
       "AT         32893\n",
       "PM10       32893\n",
       "PM2.5      32893\n",
       "Temp       32893\n",
       "WD         32893\n",
       "RH         32893\n",
       "SR         32893\n",
       "Benzene    32893\n",
       "Toluene    32893\n",
       "NH3        32893\n",
       "NO         32893\n",
       "NO2        32893\n",
       "NOx        32893\n",
       "Ozone      32893\n",
       "SO2        32893\n",
       "CO         32893\n",
       "Xylene     32893\n",
       "dtype: int64"
      ]
     },
     "execution_count": 3,
     "metadata": {},
     "output_type": "execute_result"
    }
   ],
   "source": [
    "dataset.count()"
   ]
  },
  {
   "cell_type": "code",
   "execution_count": 4,
   "metadata": {},
   "outputs": [
    {
     "data": {
      "text/html": [
       "<div>\n",
       "<style scoped>\n",
       "    .dataframe tbody tr th:only-of-type {\n",
       "        vertical-align: middle;\n",
       "    }\n",
       "\n",
       "    .dataframe tbody tr th {\n",
       "        vertical-align: top;\n",
       "    }\n",
       "\n",
       "    .dataframe thead th {\n",
       "        text-align: right;\n",
       "    }\n",
       "</style>\n",
       "<table border=\"1\" class=\"dataframe\">\n",
       "  <thead>\n",
       "    <tr style=\"text-align: right;\">\n",
       "      <th></th>\n",
       "      <th>AT</th>\n",
       "      <th>PM10</th>\n",
       "      <th>PM2.5</th>\n",
       "      <th>Temp</th>\n",
       "      <th>WD</th>\n",
       "      <th>RH</th>\n",
       "      <th>SR</th>\n",
       "      <th>Benzene</th>\n",
       "      <th>Toluene</th>\n",
       "      <th>NH3</th>\n",
       "      <th>NO</th>\n",
       "      <th>NO2</th>\n",
       "      <th>NOx</th>\n",
       "      <th>Ozone</th>\n",
       "      <th>SO2</th>\n",
       "      <th>CO</th>\n",
       "      <th>Xylene</th>\n",
       "    </tr>\n",
       "  </thead>\n",
       "  <tbody>\n",
       "    <tr>\n",
       "      <td>count</td>\n",
       "      <td>32893.000000</td>\n",
       "      <td>32893.000000</td>\n",
       "      <td>32893.000000</td>\n",
       "      <td>32893.000000</td>\n",
       "      <td>32893.000000</td>\n",
       "      <td>32893.000000</td>\n",
       "      <td>32893.00000</td>\n",
       "      <td>32893.000000</td>\n",
       "      <td>32893.000000</td>\n",
       "      <td>32893.000000</td>\n",
       "      <td>32893.000000</td>\n",
       "      <td>32893.000000</td>\n",
       "      <td>32893.000000</td>\n",
       "      <td>32893.000000</td>\n",
       "      <td>3.289300e+04</td>\n",
       "      <td>32893.000000</td>\n",
       "      <td>32893.000000</td>\n",
       "    </tr>\n",
       "    <tr>\n",
       "      <td>mean</td>\n",
       "      <td>26.713366</td>\n",
       "      <td>103.604445</td>\n",
       "      <td>47.080678</td>\n",
       "      <td>28.915820</td>\n",
       "      <td>208.901727</td>\n",
       "      <td>70.521426</td>\n",
       "      <td>124.82684</td>\n",
       "      <td>4.262701</td>\n",
       "      <td>9.135331</td>\n",
       "      <td>10.036136</td>\n",
       "      <td>11.456309</td>\n",
       "      <td>32.643334</td>\n",
       "      <td>26.259324</td>\n",
       "      <td>36.061239</td>\n",
       "      <td>-9.813930e+01</td>\n",
       "      <td>0.753006</td>\n",
       "      <td>2.922718</td>\n",
       "    </tr>\n",
       "    <tr>\n",
       "      <td>std</td>\n",
       "      <td>5.569855</td>\n",
       "      <td>62.134208</td>\n",
       "      <td>33.463221</td>\n",
       "      <td>5.469522</td>\n",
       "      <td>75.946843</td>\n",
       "      <td>12.319091</td>\n",
       "      <td>185.35298</td>\n",
       "      <td>2.911139</td>\n",
       "      <td>6.511966</td>\n",
       "      <td>9.050984</td>\n",
       "      <td>19.089711</td>\n",
       "      <td>25.077052</td>\n",
       "      <td>24.869976</td>\n",
       "      <td>40.489220</td>\n",
       "      <td>2.049520e+04</td>\n",
       "      <td>0.697004</td>\n",
       "      <td>3.621787</td>\n",
       "    </tr>\n",
       "    <tr>\n",
       "      <td>min</td>\n",
       "      <td>0.000000</td>\n",
       "      <td>0.000000</td>\n",
       "      <td>0.000000</td>\n",
       "      <td>0.000000</td>\n",
       "      <td>0.000000</td>\n",
       "      <td>0.000000</td>\n",
       "      <td>0.00000</td>\n",
       "      <td>0.000000</td>\n",
       "      <td>0.000000</td>\n",
       "      <td>-13.850000</td>\n",
       "      <td>-4.280000</td>\n",
       "      <td>-68.230000</td>\n",
       "      <td>-3.600000</td>\n",
       "      <td>-940.000000</td>\n",
       "      <td>-3.717037e+06</td>\n",
       "      <td>-0.840000</td>\n",
       "      <td>0.000000</td>\n",
       "    </tr>\n",
       "    <tr>\n",
       "      <td>25%</td>\n",
       "      <td>24.750000</td>\n",
       "      <td>70.000000</td>\n",
       "      <td>28.000000</td>\n",
       "      <td>28.480000</td>\n",
       "      <td>162.500000</td>\n",
       "      <td>67.000000</td>\n",
       "      <td>6.00000</td>\n",
       "      <td>2.500000</td>\n",
       "      <td>5.120000</td>\n",
       "      <td>6.370000</td>\n",
       "      <td>2.980000</td>\n",
       "      <td>16.250000</td>\n",
       "      <td>11.670000</td>\n",
       "      <td>10.520000</td>\n",
       "      <td>5.400000e+00</td>\n",
       "      <td>0.450000</td>\n",
       "      <td>0.930000</td>\n",
       "    </tr>\n",
       "    <tr>\n",
       "      <td>50%</td>\n",
       "      <td>27.200000</td>\n",
       "      <td>94.500000</td>\n",
       "      <td>42.500000</td>\n",
       "      <td>29.180000</td>\n",
       "      <td>220.000000</td>\n",
       "      <td>72.500000</td>\n",
       "      <td>8.00000</td>\n",
       "      <td>3.680000</td>\n",
       "      <td>8.030000</td>\n",
       "      <td>9.550000</td>\n",
       "      <td>4.850000</td>\n",
       "      <td>27.000000</td>\n",
       "      <td>19.460000</td>\n",
       "      <td>22.580000</td>\n",
       "      <td>9.100000e+00</td>\n",
       "      <td>0.700000</td>\n",
       "      <td>1.870000</td>\n",
       "    </tr>\n",
       "    <tr>\n",
       "      <td>75%</td>\n",
       "      <td>29.570000</td>\n",
       "      <td>123.250000</td>\n",
       "      <td>58.750000</td>\n",
       "      <td>29.780000</td>\n",
       "      <td>265.250000</td>\n",
       "      <td>77.500000</td>\n",
       "      <td>208.25000</td>\n",
       "      <td>5.300000</td>\n",
       "      <td>11.620000</td>\n",
       "      <td>12.520000</td>\n",
       "      <td>11.250000</td>\n",
       "      <td>42.200000</td>\n",
       "      <td>31.720000</td>\n",
       "      <td>51.970000</td>\n",
       "      <td>1.480000e+01</td>\n",
       "      <td>0.960000</td>\n",
       "      <td>3.500000</td>\n",
       "    </tr>\n",
       "    <tr>\n",
       "      <td>max</td>\n",
       "      <td>47.770000</td>\n",
       "      <td>875.000000</td>\n",
       "      <td>890.000000</td>\n",
       "      <td>68.020000</td>\n",
       "      <td>598.250000</td>\n",
       "      <td>89.000000</td>\n",
       "      <td>760.00000</td>\n",
       "      <td>57.520000</td>\n",
       "      <td>119.450000</td>\n",
       "      <td>514.000000</td>\n",
       "      <td>453.000000</td>\n",
       "      <td>251.200000</td>\n",
       "      <td>408.250000</td>\n",
       "      <td>967.630000</td>\n",
       "      <td>8.630500e+02</td>\n",
       "      <td>21.460000</td>\n",
       "      <td>143.420000</td>\n",
       "    </tr>\n",
       "  </tbody>\n",
       "</table>\n",
       "</div>"
      ],
      "text/plain": [
       "                 AT          PM10         PM2.5          Temp            WD  \\\n",
       "count  32893.000000  32893.000000  32893.000000  32893.000000  32893.000000   \n",
       "mean      26.713366    103.604445     47.080678     28.915820    208.901727   \n",
       "std        5.569855     62.134208     33.463221      5.469522     75.946843   \n",
       "min        0.000000      0.000000      0.000000      0.000000      0.000000   \n",
       "25%       24.750000     70.000000     28.000000     28.480000    162.500000   \n",
       "50%       27.200000     94.500000     42.500000     29.180000    220.000000   \n",
       "75%       29.570000    123.250000     58.750000     29.780000    265.250000   \n",
       "max       47.770000    875.000000    890.000000     68.020000    598.250000   \n",
       "\n",
       "                 RH           SR       Benzene       Toluene           NH3  \\\n",
       "count  32893.000000  32893.00000  32893.000000  32893.000000  32893.000000   \n",
       "mean      70.521426    124.82684      4.262701      9.135331     10.036136   \n",
       "std       12.319091    185.35298      2.911139      6.511966      9.050984   \n",
       "min        0.000000      0.00000      0.000000      0.000000    -13.850000   \n",
       "25%       67.000000      6.00000      2.500000      5.120000      6.370000   \n",
       "50%       72.500000      8.00000      3.680000      8.030000      9.550000   \n",
       "75%       77.500000    208.25000      5.300000     11.620000     12.520000   \n",
       "max       89.000000    760.00000     57.520000    119.450000    514.000000   \n",
       "\n",
       "                 NO           NO2           NOx         Ozone           SO2  \\\n",
       "count  32893.000000  32893.000000  32893.000000  32893.000000  3.289300e+04   \n",
       "mean      11.456309     32.643334     26.259324     36.061239 -9.813930e+01   \n",
       "std       19.089711     25.077052     24.869976     40.489220  2.049520e+04   \n",
       "min       -4.280000    -68.230000     -3.600000   -940.000000 -3.717037e+06   \n",
       "25%        2.980000     16.250000     11.670000     10.520000  5.400000e+00   \n",
       "50%        4.850000     27.000000     19.460000     22.580000  9.100000e+00   \n",
       "75%       11.250000     42.200000     31.720000     51.970000  1.480000e+01   \n",
       "max      453.000000    251.200000    408.250000    967.630000  8.630500e+02   \n",
       "\n",
       "                 CO        Xylene  \n",
       "count  32893.000000  32893.000000  \n",
       "mean       0.753006      2.922718  \n",
       "std        0.697004      3.621787  \n",
       "min       -0.840000      0.000000  \n",
       "25%        0.450000      0.930000  \n",
       "50%        0.700000      1.870000  \n",
       "75%        0.960000      3.500000  \n",
       "max       21.460000    143.420000  "
      ]
     },
     "execution_count": 4,
     "metadata": {},
     "output_type": "execute_result"
    }
   ],
   "source": [
    "dataset.describe()"
   ]
  },
  {
   "cell_type": "code",
   "execution_count": 5,
   "metadata": {},
   "outputs": [
    {
     "name": "stdout",
     "output_type": "stream",
     "text": [
      "<class 'pandas.core.frame.DataFrame'>\n",
      "DatetimeIndex: 32893 entries, 2016-07-01 to 2019-12-31\n",
      "Data columns (total 17 columns):\n",
      "AT         32893 non-null float64\n",
      "PM10       32893 non-null float64\n",
      "PM2.5      32893 non-null float64\n",
      "Temp       32893 non-null float64\n",
      "WD         32893 non-null float64\n",
      "RH         32893 non-null float64\n",
      "SR         32893 non-null float64\n",
      "Benzene    32893 non-null float64\n",
      "Toluene    32893 non-null float64\n",
      "NH3        32893 non-null float64\n",
      "NO         32893 non-null float64\n",
      "NO2        32893 non-null float64\n",
      "NOx        32893 non-null float64\n",
      "Ozone      32893 non-null float64\n",
      "SO2        32893 non-null float64\n",
      "CO         32893 non-null float64\n",
      "Xylene     32893 non-null float64\n",
      "dtypes: float64(17)\n",
      "memory usage: 4.5 MB\n"
     ]
    }
   ],
   "source": [
    "dataset.info()"
   ]
  },
  {
   "cell_type": "code",
   "execution_count": null,
   "metadata": {},
   "outputs": [],
   "source": []
  },
  {
   "cell_type": "code",
   "execution_count": null,
   "metadata": {},
   "outputs": [],
   "source": []
  },
  {
   "cell_type": "code",
   "execution_count": 6,
   "metadata": {
    "scrolled": true
   },
   "outputs": [
    {
     "data": {
      "text/plain": [
       "<Figure size 640x480 with 16 Axes>"
      ]
     },
     "metadata": {},
     "output_type": "display_data"
    }
   ],
   "source": [
    "from pandas import read_excel\n",
    "from matplotlib import pyplot\n",
    "# load dataset\n",
    "dataset = read_excel('uni.xlsx', header=0, index_col=0)\n",
    "values = dataset.values\n",
    "# specify columns to plot\n",
    "groups = [0, 1, 2, 3, 5, 6, 7, 8, 9, 10, 11, 12, 13, 14, 15, 16]\n",
    "i = 1\n",
    "# plot each column\n",
    "pyplot.figure()\n",
    "for group in groups:\n",
    "\tpyplot.subplot(len(groups), 1, i)\n",
    "\tpyplot.plot(values[:, group])\n",
    "\tpyplot.title(dataset.columns[group], y=0.5, loc='right')\n",
    "\ti += 1\n",
    "pyplot.show()"
   ]
  },
  {
   "cell_type": "code",
   "execution_count": 7,
   "metadata": {},
   "outputs": [
    {
     "name": "stdout",
     "output_type": "stream",
     "text": [
      "    PM2.5\n",
      "0   42.50\n",
      "1   42.50\n",
      "2   42.50\n",
      "3   42.50\n",
      "4   42.50\n",
      "5   42.50\n",
      "6   42.50\n",
      "7   42.50\n",
      "8   42.50\n",
      "9   42.50\n",
      "10  42.50\n",
      "11  40.00\n",
      "12  40.00\n",
      "13  42.50\n",
      "14  54.75\n",
      "32893\n"
     ]
    }
   ],
   "source": [
    "from pandas import read_csv\n",
    "from datetime import datetime# load data\n",
    "\n",
    "dataset = read_excel('uni.xlsx')\n",
    "dataset = dataset.drop(columns = ['Date','AT','PM10', 'Temp', 'RH', 'SR', 'Benzene', 'Toluene', 'NH3', 'NO', 'NO2', 'NOx', 'Ozone', 'SO2', 'CO', 'WD', 'Xylene'])\n",
    "\n",
    "# summarize first 5 rows\n",
    "print(dataset.head(15))\n",
    "# save to file\n",
    "dataset.to_csv('pollutionuni.csv')\n",
    "print(dataset.size)"
   ]
  },
  {
   "cell_type": "code",
   "execution_count": 8,
   "metadata": {},
   "outputs": [
    {
     "data": {
      "text/html": [
       "<div>\n",
       "<style scoped>\n",
       "    .dataframe tbody tr th:only-of-type {\n",
       "        vertical-align: middle;\n",
       "    }\n",
       "\n",
       "    .dataframe tbody tr th {\n",
       "        vertical-align: top;\n",
       "    }\n",
       "\n",
       "    .dataframe thead th {\n",
       "        text-align: right;\n",
       "    }\n",
       "</style>\n",
       "<table border=\"1\" class=\"dataframe\">\n",
       "  <thead>\n",
       "    <tr style=\"text-align: right;\">\n",
       "      <th></th>\n",
       "      <th>PM2.5</th>\n",
       "    </tr>\n",
       "  </thead>\n",
       "  <tbody>\n",
       "    <tr>\n",
       "      <td>0</td>\n",
       "      <td>42.5</td>\n",
       "    </tr>\n",
       "    <tr>\n",
       "      <td>1</td>\n",
       "      <td>42.5</td>\n",
       "    </tr>\n",
       "    <tr>\n",
       "      <td>2</td>\n",
       "      <td>42.5</td>\n",
       "    </tr>\n",
       "    <tr>\n",
       "      <td>3</td>\n",
       "      <td>42.5</td>\n",
       "    </tr>\n",
       "    <tr>\n",
       "      <td>4</td>\n",
       "      <td>42.5</td>\n",
       "    </tr>\n",
       "  </tbody>\n",
       "</table>\n",
       "</div>"
      ],
      "text/plain": [
       "   PM2.5\n",
       "0   42.5\n",
       "1   42.5\n",
       "2   42.5\n",
       "3   42.5\n",
       "4   42.5"
      ]
     },
     "metadata": {},
     "output_type": "display_data"
    }
   ],
   "source": [
    "import pandas as pd\n",
    "test = dataset\n",
    "# Target column\n",
    "target_PM = pd.DataFrame(test['PM2.5'])\n",
    "display(test.head())"
   ]
  },
  {
   "cell_type": "code",
   "execution_count": 9,
   "metadata": {},
   "outputs": [],
   "source": [
    "feature_columns = ['PM2.5']"
   ]
  },
  {
   "cell_type": "code",
   "execution_count": 10,
   "metadata": {},
   "outputs": [
    {
     "data": {
      "text/html": [
       "<div>\n",
       "<style scoped>\n",
       "    .dataframe tbody tr th:only-of-type {\n",
       "        vertical-align: middle;\n",
       "    }\n",
       "\n",
       "    .dataframe tbody tr th {\n",
       "        vertical-align: top;\n",
       "    }\n",
       "\n",
       "    .dataframe thead th {\n",
       "        text-align: right;\n",
       "    }\n",
       "</style>\n",
       "<table border=\"1\" class=\"dataframe\">\n",
       "  <thead>\n",
       "    <tr style=\"text-align: right;\">\n",
       "      <th></th>\n",
       "      <th>PM2.5</th>\n",
       "    </tr>\n",
       "  </thead>\n",
       "  <tbody>\n",
       "    <tr>\n",
       "      <td>0</td>\n",
       "      <td>0.047753</td>\n",
       "    </tr>\n",
       "    <tr>\n",
       "      <td>1</td>\n",
       "      <td>0.047753</td>\n",
       "    </tr>\n",
       "    <tr>\n",
       "      <td>2</td>\n",
       "      <td>0.047753</td>\n",
       "    </tr>\n",
       "    <tr>\n",
       "      <td>3</td>\n",
       "      <td>0.047753</td>\n",
       "    </tr>\n",
       "    <tr>\n",
       "      <td>4</td>\n",
       "      <td>0.047753</td>\n",
       "    </tr>\n",
       "  </tbody>\n",
       "</table>\n",
       "</div>"
      ],
      "text/plain": [
       "      PM2.5\n",
       "0  0.047753\n",
       "1  0.047753\n",
       "2  0.047753\n",
       "3  0.047753\n",
       "4  0.047753"
      ]
     },
     "execution_count": 10,
     "metadata": {},
     "output_type": "execute_result"
    }
   ],
   "source": [
    "from sklearn.preprocessing import MinMaxScaler\n",
    "scaler = MinMaxScaler()\n",
    "feature_minmax_transform_data = scaler.fit_transform(test[feature_columns])\n",
    "feature_minmax_transform = pd.DataFrame(columns=feature_columns, data=feature_minmax_transform_data, index=test.index)\n",
    "feature_minmax_transform.head()"
   ]
  },
  {
   "cell_type": "code",
   "execution_count": 11,
   "metadata": {},
   "outputs": [
    {
     "data": {
      "text/html": [
       "<div>\n",
       "<style scoped>\n",
       "    .dataframe tbody tr th:only-of-type {\n",
       "        vertical-align: middle;\n",
       "    }\n",
       "\n",
       "    .dataframe tbody tr th {\n",
       "        vertical-align: top;\n",
       "    }\n",
       "\n",
       "    .dataframe thead th {\n",
       "        text-align: right;\n",
       "    }\n",
       "</style>\n",
       "<table border=\"1\" class=\"dataframe\">\n",
       "  <thead>\n",
       "    <tr style=\"text-align: right;\">\n",
       "      <th></th>\n",
       "      <th>PM2.5</th>\n",
       "    </tr>\n",
       "  </thead>\n",
       "  <tbody>\n",
       "    <tr>\n",
       "      <td>0</td>\n",
       "      <td>0.047753</td>\n",
       "    </tr>\n",
       "    <tr>\n",
       "      <td>1</td>\n",
       "      <td>0.047753</td>\n",
       "    </tr>\n",
       "    <tr>\n",
       "      <td>2</td>\n",
       "      <td>0.047753</td>\n",
       "    </tr>\n",
       "    <tr>\n",
       "      <td>3</td>\n",
       "      <td>0.047753</td>\n",
       "    </tr>\n",
       "    <tr>\n",
       "      <td>4</td>\n",
       "      <td>0.047753</td>\n",
       "    </tr>\n",
       "  </tbody>\n",
       "</table>\n",
       "</div>"
      ],
      "text/plain": [
       "      PM2.5\n",
       "0  0.047753\n",
       "1  0.047753\n",
       "2  0.047753\n",
       "3  0.047753\n",
       "4  0.047753"
      ]
     },
     "metadata": {},
     "output_type": "display_data"
    },
    {
     "name": "stdout",
     "output_type": "stream",
     "text": [
      "Shape of features :  (32893, 1)\n",
      "Shape of target :  (32893, 1)\n"
     ]
    },
    {
     "data": {
      "text/html": [
       "<div>\n",
       "<style scoped>\n",
       "    .dataframe tbody tr th:only-of-type {\n",
       "        vertical-align: middle;\n",
       "    }\n",
       "\n",
       "    .dataframe tbody tr th {\n",
       "        vertical-align: top;\n",
       "    }\n",
       "\n",
       "    .dataframe thead th {\n",
       "        text-align: right;\n",
       "    }\n",
       "</style>\n",
       "<table border=\"1\" class=\"dataframe\">\n",
       "  <thead>\n",
       "    <tr style=\"text-align: right;\">\n",
       "      <th></th>\n",
       "      <th>PM2.5</th>\n",
       "    </tr>\n",
       "  </thead>\n",
       "  <tbody>\n",
       "    <tr>\n",
       "      <td>32887</td>\n",
       "      <td>0.060112</td>\n",
       "    </tr>\n",
       "    <tr>\n",
       "      <td>32888</td>\n",
       "      <td>0.054213</td>\n",
       "    </tr>\n",
       "    <tr>\n",
       "      <td>32889</td>\n",
       "      <td>0.055337</td>\n",
       "    </tr>\n",
       "    <tr>\n",
       "      <td>32890</td>\n",
       "      <td>0.063764</td>\n",
       "    </tr>\n",
       "    <tr>\n",
       "      <td>32891</td>\n",
       "      <td>0.055337</td>\n",
       "    </tr>\n",
       "  </tbody>\n",
       "</table>\n",
       "</div>"
      ],
      "text/plain": [
       "          PM2.5\n",
       "32887  0.060112\n",
       "32888  0.054213\n",
       "32889  0.055337\n",
       "32890  0.063764\n",
       "32891  0.055337"
      ]
     },
     "metadata": {},
     "output_type": "display_data"
    },
    {
     "data": {
      "text/html": [
       "<div>\n",
       "<style scoped>\n",
       "    .dataframe tbody tr th:only-of-type {\n",
       "        vertical-align: middle;\n",
       "    }\n",
       "\n",
       "    .dataframe tbody tr th {\n",
       "        vertical-align: top;\n",
       "    }\n",
       "\n",
       "    .dataframe thead th {\n",
       "        text-align: right;\n",
       "    }\n",
       "</style>\n",
       "<table border=\"1\" class=\"dataframe\">\n",
       "  <thead>\n",
       "    <tr style=\"text-align: right;\">\n",
       "      <th></th>\n",
       "      <th>PM2.5</th>\n",
       "    </tr>\n",
       "  </thead>\n",
       "  <tbody>\n",
       "    <tr>\n",
       "      <td>32887</td>\n",
       "      <td>48.25</td>\n",
       "    </tr>\n",
       "    <tr>\n",
       "      <td>32888</td>\n",
       "      <td>49.25</td>\n",
       "    </tr>\n",
       "    <tr>\n",
       "      <td>32889</td>\n",
       "      <td>56.75</td>\n",
       "    </tr>\n",
       "    <tr>\n",
       "      <td>32890</td>\n",
       "      <td>49.25</td>\n",
       "    </tr>\n",
       "    <tr>\n",
       "      <td>32891</td>\n",
       "      <td>47.00</td>\n",
       "    </tr>\n",
       "  </tbody>\n",
       "</table>\n",
       "</div>"
      ],
      "text/plain": [
       "       PM2.5\n",
       "32887  48.25\n",
       "32888  49.25\n",
       "32889  56.75\n",
       "32890  49.25\n",
       "32891  47.00"
      ]
     },
     "metadata": {},
     "output_type": "display_data"
    },
    {
     "name": "stdout",
     "output_type": "stream",
     "text": [
      "\n",
      " -----After process------ \n",
      "\n",
      "Shape of features :  (26893, 1)\n",
      "Shape of target :  (26893, 1)\n"
     ]
    },
    {
     "data": {
      "text/html": [
       "<div>\n",
       "<style scoped>\n",
       "    .dataframe tbody tr th:only-of-type {\n",
       "        vertical-align: middle;\n",
       "    }\n",
       "\n",
       "    .dataframe tbody tr th {\n",
       "        vertical-align: top;\n",
       "    }\n",
       "\n",
       "    .dataframe thead th {\n",
       "        text-align: right;\n",
       "    }\n",
       "</style>\n",
       "<table border=\"1\" class=\"dataframe\">\n",
       "  <thead>\n",
       "    <tr style=\"text-align: right;\">\n",
       "      <th></th>\n",
       "      <th>PM2.5</th>\n",
       "    </tr>\n",
       "  </thead>\n",
       "  <tbody>\n",
       "    <tr>\n",
       "      <td>26888</td>\n",
       "      <td>42.25</td>\n",
       "    </tr>\n",
       "    <tr>\n",
       "      <td>26889</td>\n",
       "      <td>42.50</td>\n",
       "    </tr>\n",
       "    <tr>\n",
       "      <td>26890</td>\n",
       "      <td>49.00</td>\n",
       "    </tr>\n",
       "    <tr>\n",
       "      <td>26891</td>\n",
       "      <td>46.00</td>\n",
       "    </tr>\n",
       "    <tr>\n",
       "      <td>26892</td>\n",
       "      <td>34.25</td>\n",
       "    </tr>\n",
       "  </tbody>\n",
       "</table>\n",
       "</div>"
      ],
      "text/plain": [
       "       PM2.5\n",
       "26888  42.25\n",
       "26889  42.50\n",
       "26890  49.00\n",
       "26891  46.00\n",
       "26892  34.25"
      ]
     },
     "metadata": {},
     "output_type": "display_data"
    }
   ],
   "source": [
    "\n",
    "display(feature_minmax_transform.head())\n",
    "print('Shape of features : ', feature_minmax_transform.shape)\n",
    "print('Shape of target : ', target_PM.shape)\n",
    "\n",
    "# Shift target array because we want to predict the n + 1 day value\n",
    "\n",
    "\n",
    "target_PM = target_PM.shift(-1)\n",
    "validation_y = target_PM[-6000:-1]\n",
    "target_PM = target_PM[:-6000]\n",
    "\n",
    "# Taking last 6000 rows of data to be validation set\n",
    "validation_X = feature_minmax_transform[-6000:-1]\n",
    "feature_minmax_transform = feature_minmax_transform[:-6000]\n",
    "display(validation_X.tail())\n",
    "display(validation_y.tail())\n",
    "\n",
    "print(\"\\n -----After process------ \\n\")\n",
    "print('Shape of features : ', feature_minmax_transform.shape)\n",
    "print('Shape of target : ', target_PM.shape)\n",
    "display(target_PM.tail())"
   ]
  },
  {
   "cell_type": "code",
   "execution_count": 12,
   "metadata": {},
   "outputs": [],
   "source": [
    "from sklearn.model_selection import TimeSeriesSplit\n",
    "from sklearn.metrics import mean_squared_error, r2_score\n",
    "import matplotlib.dates as mdates\n",
    "from sklearn import linear_model\n",
    "ts_split= TimeSeriesSplit(n_splits=10)\n",
    "for train_index, test_index in ts_split.split(feature_minmax_transform):\n",
    "        X_train, X_test = feature_minmax_transform[:len(train_index)], feature_minmax_transform[len(train_index): (len(train_index)+len(test_index))]\n",
    "        y_train, y_test = target_PM[:len(train_index)].values.ravel(), target_PM[len(train_index): (len(train_index)+len(test_index))].values.ravel()"
   ]
  },
  {
   "cell_type": "code",
   "execution_count": 13,
   "metadata": {},
   "outputs": [
    {
     "data": {
      "text/plain": [
       "(24449, 1)"
      ]
     },
     "execution_count": 13,
     "metadata": {},
     "output_type": "execute_result"
    }
   ],
   "source": [
    "X_train.shape"
   ]
  },
  {
   "cell_type": "code",
   "execution_count": 14,
   "metadata": {},
   "outputs": [
    {
     "data": {
      "text/plain": [
       "(2444, 1)"
      ]
     },
     "execution_count": 14,
     "metadata": {},
     "output_type": "execute_result"
    }
   ],
   "source": [
    "X_test.shape"
   ]
  },
  {
   "cell_type": "code",
   "execution_count": 15,
   "metadata": {},
   "outputs": [
    {
     "data": {
      "text/plain": [
       "(24449,)"
      ]
     },
     "execution_count": 15,
     "metadata": {},
     "output_type": "execute_result"
    }
   ],
   "source": [
    "y_train.shape"
   ]
  },
  {
   "cell_type": "code",
   "execution_count": 16,
   "metadata": {},
   "outputs": [
    {
     "data": {
      "text/plain": [
       "(2444,)"
      ]
     },
     "execution_count": 16,
     "metadata": {},
     "output_type": "execute_result"
    }
   ],
   "source": [
    "y_test.shape"
   ]
  },
  {
   "cell_type": "code",
   "execution_count": 17,
   "metadata": {},
   "outputs": [],
   "source": [
    "def validate_result(model, model_name):\n",
    "    predicted = model.predict(validation_X)\n",
    "    RSME_score = np.sqrt(mean_squared_error(validation_y, predicted))\n",
    "    print('RMSE: ', RSME_score)\n",
    "    \n",
    "    R2_score = r2_score(validation_y, predicted)\n",
    "    print('R2 score: ', R2_score)\n",
    "\n",
    "    plt.plot(validation_y.index, predicted,'r', label='Predict')\n",
    "    plt.plot(validation_y.index, validation_y,'b', label='Actual')\n",
    "    plt.ylabel('PM2.5')\n",
    "    ##plt.gca().xaxis.set_major_formatter(mdates.DateFormatter('%m'))\n",
    "    plt.title(model_name + ' Predict vs Actual')\n",
    "    plt.legend(loc='upper right')\n",
    "    plt.show()"
   ]
  },
  {
   "cell_type": "code",
   "execution_count": 18,
   "metadata": {},
   "outputs": [
    {
     "name": "stdout",
     "output_type": "stream",
     "text": [
      "RMSE:  13.677215460297537\n",
      "R2 score:  0.7715238048677711\n"
     ]
    },
    {
     "data": {
      "image/png": "[encoded data removed]",
      "text/plain": [
       "<Figure size 432x288 with 1 Axes>"
      ]
     },
     "metadata": {
      "needs_background": "light"
     },
     "output_type": "display_data"
    }
   ],
   "source": [
    "from sklearn.tree import DecisionTreeRegressor\n",
    "import pandas as pd\n",
    "import numpy as np\n",
    "import matplotlib.pyplot as plt\n",
    "%matplotlib inline\n",
    "from datetime import datetime\n",
    "import seaborn as sns \n",
    "from scipy.stats import norm \n",
    "from matplotlib import pyplot\n",
    "dt = DecisionTreeRegressor(random_state=0)\n",
    "\n",
    "benchmark_dt=dt.fit(X_train, y_train)\n",
    "\n",
    "validate_result(benchmark_dt, 'Decision Tree Regression')\n"
   ]
  },
  {
   "cell_type": "code",
   "execution_count": 19,
   "metadata": {},
   "outputs": [],
   "source": [
    "\n",
    "X_train =np.array(X_train)\n",
    "X_test =np.array(X_test)\n",
    "\n",
    "X_tr_t = X_train.reshape(X_train.shape[0], 1, X_train.shape[1])\n",
    "X_tst_t = X_test.reshape(X_test.shape[0], 1, X_test.shape[1])"
   ]
  },
  {
   "cell_type": "code",
   "execution_count": 21,
   "metadata": {},
   "outputs": [
    {
     "name": "stdout",
     "output_type": "stream",
     "text": [
      "Epoch 1/100\n",
      "24449/24449 [==============================] - ETA: 0s - loss: 1.135 - 4s 179us/step - loss: 1.1265\n",
      "Epoch 2/100\n",
      "24449/24449 [==============================] - 4s 173us/step - loss: 0.4645 1s - loss: 0 - ET\n",
      "Epoch 3/100\n",
      "24449/24449 [==============================] - 4s 165us/step - loss: 0.2282\n",
      "Epoch 4/100\n",
      "24449/24449 [==============================] - ETA: 0s - loss: 0.187 - 4s 164us/step - loss: 0.1855\n",
      "Epoch 5/100\n",
      "24449/24449 [==============================] - 4s 165us/step - loss: 0.1843 0s \n",
      "Epoch 6/100\n",
      "24449/24449 [==============================] - 4s 165us/step - loss: 0.1839 0s - \n",
      "Epoch 7/100\n",
      "24449/24449 [==============================] - 4s 165us/step - loss: 0.1834\n",
      "Epoch 8/100\n",
      "24449/24449 [==============================] - 4s 177us/step - loss: 0.1832\n",
      "Epoch 9/100\n",
      "24449/24449 [==============================] - 4s 170us/step - loss: 0.1827 1s - los  - ETA: 0s - loss: 0.18\n",
      "Epoch 10/100\n",
      "24449/24449 [==============================] - 4s 163us/step - loss: 0.1825\n",
      "Epoch 11/100\n",
      "24449/24449 [==============================] - 4s 167us/step - loss: 0.1825\n",
      "Epoch 12/100\n",
      "24449/24449 [==============================] - 4s 167us/step - loss: 0.1820\n",
      "Epoch 13/100\n",
      "24449/24449 [==============================] - 4s 166us/step - loss: 0.1820\n",
      "Epoch 14/100\n",
      "24449/24449 [==============================] - 4s 167us/step - loss: 0.1817 1s - lo - ETA: 0s - loss: 0.18\n",
      "Epoch 15/100\n",
      "24449/24449 [==============================] - 4s 165us/step - loss: 0.1815\n",
      "Epoch 16/100\n",
      "24449/24449 [==============================] - 4s 165us/step - loss: 0.1812\n",
      "Epoch 17/100\n",
      "24449/24449 [==============================] - ETA: 0s - loss: 0.184 - ETA: 0s - loss: 0.182 - 4s 176us/step - loss: 0.1811\n",
      "Epoch 18/100\n",
      "24449/24449 [==============================] - 4s 179us/step - loss: 0.1809 0s - loss: \n",
      "Epoch 19/100\n",
      "24449/24449 [==============================] - 4s 170us/step - loss: 0.1808 0s\n",
      "Epoch 20/100\n",
      "24449/24449 [==============================] - 4s 181us/step - loss: 0.1809\n",
      "Epoch 21/100\n",
      "24449/24449 [==============================] - 4s 175us/step - loss: 0.1808\n",
      "Epoch 22/100\n",
      "24449/24449 [==============================] - 4s 167us/step - loss: 0.1809 0s - loss: 0. - ETA: 0s\n",
      "Epoch 23/100\n",
      "24449/24449 [==============================] - 4s 180us/step - loss: 0.1808 0s - loss\n",
      "Epoch 24/100\n",
      "24449/24449 [==============================] - 4s 178us/step - loss: 0.1805\n",
      "Epoch 25/100\n",
      "24449/24449 [==============================] - 4s 180us/step - loss: 0.1806\n",
      "Epoch 26/100\n",
      "24449/24449 [==============================] - 5s 185us/step - loss: 0.1804\n",
      "Epoch 27/100\n",
      "24449/24449 [==============================] - 4s 176us/step - loss: 0.1803\n",
      "Epoch 28/100\n",
      "24449/24449 [==============================] - ETA: 0s - loss: 0.181 - 4s 181us/step - loss: 0.1801\n",
      "Epoch 29/100\n",
      "24449/24449 [==============================] - 5s 186us/step - loss: 0.1800\n",
      "Epoch 30/100\n",
      "24449/24449 [==============================] - 4s 180us/step - loss: 0.1801\n",
      "Epoch 31/100\n",
      "24449/24449 [==============================] - 4s 173us/step - loss: 0.1800\n",
      "Epoch 32/100\n",
      "24449/24449 [==============================] - 4s 175us/step - loss: 0.1799\n",
      "Epoch 33/100\n",
      "24449/24449 [==============================] - 4s 176us/step - loss: 0.1797\n",
      "Epoch 34/100\n",
      "24449/24449 [==============================] - 4s 172us/step - loss: 0.1796 \n",
      "Epoch 35/100\n",
      "24449/24449 [==============================] - 4s 180us/step - loss: 0.1795\n",
      "Epoch 36/100\n",
      "24449/24449 [==============================] - 4s 170us/step - loss: 0.1795\n",
      "Epoch 37/100\n",
      "24449/24449 [==============================] - 4s 166us/step - loss: 0.1795\n",
      "Epoch 38/100\n",
      "24449/24449 [==============================] - 4s 168us/step - loss: 0.1794\n",
      "Epoch 39/100\n",
      "24449/24449 [==============================] - 4s 171us/step - loss: 0.1793\n",
      "Epoch 40/100\n",
      "24449/24449 [==============================] - ETA: 0s - loss: 0.180 - 4s 179us/step - loss: 0.1793\n",
      "Epoch 41/100\n",
      "24449/24449 [==============================] - 4s 170us/step - loss: 0.1794TA - ETA: 0s - loss - ETA: 0s - loss: 0.18\n",
      "Epoch 42/100\n",
      "24449/24449 [==============================] - 4s 175us/step - loss: 0.1794 1s - loss - ET - ETA: 0s - loss: 0. - ETA: 0s - loss: 0.179\n",
      "Epoch 43/100\n",
      "24449/24449 [==============================] - 4s 170us/step - loss: 0.1793\n",
      "Epoch 44/100\n",
      "24449/24449 [==============================] - ETA: 0s - loss: 0.180 - 4s 167us/step - loss: 0.1793\n",
      "Epoch 45/100\n",
      "24449/24449 [==============================] - 4s 170us/step - loss: 0.1793 0s - loss: 0.18\n",
      "Epoch 00045: early stopping\n"
     ]
    }
   ],
   "source": [
    "from keras.models import Sequential\n",
    "from keras.layers import Dense\n",
    "import keras.backend as K\n",
    "from keras.callbacks import EarlyStopping\n",
    "from keras.optimizers import Adam\n",
    "from keras.models import load_model\n",
    "from keras.layers import LSTM\n",
    "K.clear_session()\n",
    "model_lstm = Sequential()\n",
    "model_lstm.add(LSTM(16, input_shape=(1, X_train.shape[1]), activation='relu', return_sequences=False))\n",
    "\n",
    "model_lstm.add(Dense(32,activation='relu'))\n",
    "model_lstm.add(Dense(32,activation='relu'))\n",
    "\n",
    "model_lstm.add(Dense(1))\n",
    "model_lstm.compile(loss='mean_squared_logarithmic_error', optimizer='adam')\n",
    "early_stop = EarlyStopping(monitor='loss', patience=5, verbose=1)\n",
    "history_model_lstm = model_lstm.fit(X_tr_t, y_train, epochs=100, batch_size=8, verbose=1, shuffle=False, callbacks=[early_stop])"
   ]
  },
  {
   "cell_type": "code",
   "execution_count": 22,
   "metadata": {},
   "outputs": [
    {
     "name": "stdout",
     "output_type": "stream",
     "text": [
      "The R2 score on the Train set is:\t0.800\n",
      "The R2 score on the Test set is:\t0.536\n",
      "2444/2444 [==============================] - 1s 571us/step\n",
      "LSTM: 0.167860\n"
     ]
    }
   ],
   "source": [
    "y_pred_test_lstm = model_lstm.predict(X_tst_t)\n",
    "y_train_pred_lstm = model_lstm.predict(X_tr_t)\n",
    "print(\"The R2 score on the Train set is:\\t{:0.3f}\".format(r2_score(y_train, y_train_pred_lstm)))\n",
    "r2_train = r2_score(y_train, y_train_pred_lstm)\n",
    "\n",
    "print(\"The R2 score on the Test set is:\\t{:0.3f}\".format(r2_score(y_test, y_pred_test_lstm)))\n",
    "r2_test = r2_score(y_test, y_pred_test_lstm)\n",
    "\n",
    "score_lstm= model_lstm.evaluate(X_tst_t, y_test, batch_size=1)\n",
    "print('LSTM: %f'%score_lstm)"
   ]
  },
  {
   "cell_type": "code",
   "execution_count": 23,
   "metadata": {},
   "outputs": [
    {
     "name": "stdout",
     "output_type": "stream",
     "text": [
      "Test RMSE: 12.038\n"
     ]
    }
   ],
   "source": [
    "from math import sqrt\n",
    "rmse = sqrt(mean_squared_error(y_test, y_pred_test_lstm))\n",
    "print('Test RMSE: %.3f' % rmse)"
   ]
  },
  {
   "cell_type": "code",
   "execution_count": 24,
   "metadata": {},
   "outputs": [
    {
     "data": {
      "image/png": "[encoded data removed]",
      "text/plain": [
       "<Figure size 432x288 with 1 Axes>"
      ]
     },
     "metadata": {
      "needs_background": "light"
     },
     "output_type": "display_data"
    }
   ],
   "source": [
    "plt.plot(y_test, label='True')\n",
    "plt.plot(y_pred_test_lstm, label='LSTM')\n",
    "plt.title(\"LSTM's_Prediction\")\n",
    "plt.legend()\n",
    "plt.show()"
   ]
  },
  {
   "cell_type": "code",
   "execution_count": 25,
   "metadata": {},
   "outputs": [],
   "source": [
    "col1 = pd.DataFrame(y_test, columns=['True'])\n",
    "\n",
    "col2 = pd.DataFrame(y_pred_test_lstm, columns=['LSTM_prediction'])\n",
    "\n",
    "col3 = pd.DataFrame(history_model_lstm.history['loss'], columns=['Loss_LSTM'])\n",
    "results = pd.concat([col1, col2, col3], axis=1)\n",
    "results.to_excel('UnivariateResults_LSTM.xlsx')"
   ]
  },
  {
   "cell_type": "code",
   "execution_count": null,
   "metadata": {
    "scrolled": true
   },
   "outputs": [],
   "source": []
  },
  {
   "cell_type": "code",
   "execution_count": null,
   "metadata": {},
   "outputs": [],
   "source": []
  },
  {
   "cell_type": "code",
   "execution_count": null,
   "metadata": {},
   "outputs": [],
   "source": [
    "\n"
   ]
  },
  {
   "cell_type": "code",
   "execution_count": null,
   "metadata": {},
   "outputs": [],
   "source": []
  },
  {
   "cell_type": "code",
   "execution_count": null,
   "metadata": {},
   "outputs": [],
   "source": []
  },
  {
   "cell_type": "code",
   "execution_count": null,
   "metadata": {},
   "outputs": [],
   "source": []
  }
 ],
 "metadata": {
  "kernelspec": {
   "display_name": "Python 3",
   "language": "python",
   "name": "python3"
  },
  "language_info": {
   "codemirror_mode": {
    "name": "ipython",
    "version": 3
   },
   "file_extension": ".py",
   "mimetype": "text/x-python",
   "name": "python",
   "nbconvert_exporter": "python",
   "pygments_lexer": "ipython3",
   "version": "3.7.4"
  }
 },
 "nbformat": 4,
 "nbformat_minor": 2
}
